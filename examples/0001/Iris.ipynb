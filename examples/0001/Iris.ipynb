{
 "cells": [
  {
   "cell_type": "markdown",
   "id": "f0662eef",
   "metadata": {},
   "source": [
    "# Iris \n",
    "\n",
    "This example contains code snippets that demonstrate how concrete\n",
    "implementations of machine learning models may be integratied into\n",
    "the AIMM environment as plugins. File `aimm_plugins/plug1.py`\n",
    "contains a simple wrapper around sklearn's SVC implementation and we're\n",
    "going to use this to host a simple iris-recognition service."
   ]
  },
  {
   "cell_type": "code",
   "execution_count": 1,
   "id": "e2cce87c",
   "metadata": {},
   "outputs": [
    {
     "name": "stdout",
     "output_type": "stream",
     "text": [
      "Username: user1\n",
      "Password: ········\n"
     ]
    },
    {
     "ename": "ConnectionError",
     "evalue": "",
     "output_type": "error",
     "traceback": [
      "\u001b[0;31m---------------------------------------------------------------------------\u001b[0m",
      "\u001b[0;31mQueueClosedError\u001b[0m                          Traceback (most recent call last)",
      "\u001b[0;32m~/code/aimm/examples/0001/venv/lib/python3.9/site-packages/hat/juggler.py\u001b[0m in \u001b[0;36mreceive\u001b[0;34m(self)\u001b[0m\n\u001b[1;32m    267\u001b[0m         \u001b[0;32mtry\u001b[0m\u001b[0;34m:\u001b[0m\u001b[0;34m\u001b[0m\u001b[0;34m\u001b[0m\u001b[0m\n\u001b[0;32m--> 268\u001b[0;31m             \u001b[0;32mreturn\u001b[0m \u001b[0;32mawait\u001b[0m \u001b[0mself\u001b[0m\u001b[0;34m.\u001b[0m\u001b[0m_message_queue\u001b[0m\u001b[0;34m.\u001b[0m\u001b[0mget\u001b[0m\u001b[0;34m(\u001b[0m\u001b[0;34m)\u001b[0m\u001b[0;34m\u001b[0m\u001b[0;34m\u001b[0m\u001b[0m\n\u001b[0m\u001b[1;32m    269\u001b[0m \u001b[0;34m\u001b[0m\u001b[0m\n",
      "\u001b[0;32m~/code/aimm/examples/0001/venv/lib/python3.9/site-packages/hat/aio.py\u001b[0m in \u001b[0;36mget\u001b[0;34m(self)\u001b[0m\n\u001b[1;32m    522\u001b[0m                 \u001b[0mself\u001b[0m\u001b[0;34m.\u001b[0m\u001b[0m_wakeup_all\u001b[0m\u001b[0;34m(\u001b[0m\u001b[0mself\u001b[0m\u001b[0;34m.\u001b[0m\u001b[0m_getters\u001b[0m\u001b[0;34m)\u001b[0m\u001b[0;34m\u001b[0m\u001b[0;34m\u001b[0m\u001b[0m\n\u001b[0;32m--> 523\u001b[0;31m                 \u001b[0;32mraise\u001b[0m \u001b[0mQueueClosedError\u001b[0m\u001b[0;34m(\u001b[0m\u001b[0;34m)\u001b[0m\u001b[0;34m\u001b[0m\u001b[0;34m\u001b[0m\u001b[0m\n\u001b[0m\u001b[1;32m    524\u001b[0m             \u001b[0mgetter\u001b[0m \u001b[0;34m=\u001b[0m \u001b[0masyncio\u001b[0m\u001b[0;34m.\u001b[0m\u001b[0mFuture\u001b[0m\u001b[0;34m(\u001b[0m\u001b[0;34m)\u001b[0m\u001b[0;34m\u001b[0m\u001b[0;34m\u001b[0m\u001b[0m\n",
      "\u001b[0;31mQueueClosedError\u001b[0m: ",
      "\nDuring handling of the above exception, another exception occurred:\n",
      "\u001b[0;31mConnectionError\u001b[0m                           Traceback (most recent call last)",
      "\u001b[0;32m<ipython-input-1-18b856614eb6>\u001b[0m in \u001b[0;36m<module>\u001b[0;34m\u001b[0m\n\u001b[1;32m      2\u001b[0m \u001b[0;34m\u001b[0m\u001b[0m\n\u001b[1;32m      3\u001b[0m \u001b[0maimm\u001b[0m \u001b[0;34m=\u001b[0m \u001b[0mrepl\u001b[0m\u001b[0;34m.\u001b[0m\u001b[0mAIMM\u001b[0m\u001b[0;34m(\u001b[0m\u001b[0;34m)\u001b[0m\u001b[0;34m\u001b[0m\u001b[0;34m\u001b[0m\u001b[0m\n\u001b[0;32m----> 4\u001b[0;31m \u001b[0;32mawait\u001b[0m \u001b[0maimm\u001b[0m\u001b[0;34m.\u001b[0m\u001b[0mconnect\u001b[0m\u001b[0;34m(\u001b[0m\u001b[0;34m'ws://127.0.0.1:9999/ws'\u001b[0m\u001b[0;34m)\u001b[0m\u001b[0;34m\u001b[0m\u001b[0;34m\u001b[0m\u001b[0m\n\u001b[0m",
      "\u001b[0;32m~/code/aimm/aimm/client/repl.py\u001b[0m in \u001b[0;36mconnect\u001b[0;34m(self, address, autoflush_delay)\u001b[0m\n\u001b[1;32m     58\u001b[0m                                    \u001b[0;34m'username'\u001b[0m\u001b[0;34m:\u001b[0m \u001b[0musername\u001b[0m\u001b[0;34m,\u001b[0m\u001b[0;34m\u001b[0m\u001b[0;34m\u001b[0m\u001b[0m\n\u001b[1;32m     59\u001b[0m                                    'password': password_hash.hexdigest()}})\n\u001b[0;32m---> 60\u001b[0;31m         \u001b[0mmsg\u001b[0m \u001b[0;34m=\u001b[0m \u001b[0;32mawait\u001b[0m \u001b[0mconnection\u001b[0m\u001b[0;34m.\u001b[0m\u001b[0mreceive\u001b[0m\u001b[0;34m(\u001b[0m\u001b[0;34m)\u001b[0m\u001b[0;34m\u001b[0m\u001b[0;34m\u001b[0m\u001b[0m\n\u001b[0m\u001b[1;32m     61\u001b[0m \u001b[0;34m\u001b[0m\u001b[0m\n\u001b[1;32m     62\u001b[0m         \u001b[0;32mif\u001b[0m \u001b[0mmsg\u001b[0m \u001b[0;34m!=\u001b[0m \u001b[0;34m{\u001b[0m\u001b[0;34m'type'\u001b[0m\u001b[0;34m:\u001b[0m \u001b[0;34m'login_success'\u001b[0m\u001b[0;34m}\u001b[0m\u001b[0;34m:\u001b[0m\u001b[0;34m\u001b[0m\u001b[0;34m\u001b[0m\u001b[0m\n",
      "\u001b[0;32m~/code/aimm/examples/0001/venv/lib/python3.9/site-packages/hat/juggler.py\u001b[0m in \u001b[0;36mreceive\u001b[0;34m(self)\u001b[0m\n\u001b[1;32m    269\u001b[0m \u001b[0;34m\u001b[0m\u001b[0m\n\u001b[1;32m    270\u001b[0m         \u001b[0;32mexcept\u001b[0m \u001b[0maio\u001b[0m\u001b[0;34m.\u001b[0m\u001b[0mQueueClosedError\u001b[0m\u001b[0;34m:\u001b[0m\u001b[0;34m\u001b[0m\u001b[0;34m\u001b[0m\u001b[0m\n\u001b[0;32m--> 271\u001b[0;31m             \u001b[0;32mraise\u001b[0m \u001b[0mConnectionError\u001b[0m\u001b[0;34m(\u001b[0m\u001b[0;34m)\u001b[0m\u001b[0;34m\u001b[0m\u001b[0;34m\u001b[0m\u001b[0m\n\u001b[0m\u001b[1;32m    272\u001b[0m \u001b[0;34m\u001b[0m\u001b[0m\n\u001b[1;32m    273\u001b[0m     \u001b[0;32masync\u001b[0m \u001b[0;32mdef\u001b[0m \u001b[0m_on_close\u001b[0m\u001b[0;34m(\u001b[0m\u001b[0mself\u001b[0m\u001b[0;34m)\u001b[0m\u001b[0;34m:\u001b[0m\u001b[0;34m\u001b[0m\u001b[0;34m\u001b[0m\u001b[0m\n",
      "\u001b[0;31mConnectionError\u001b[0m: "
     ]
    }
   ],
   "source": [
    "from aimm.client import repl\n",
    "\n",
    "aimm = repl.AIMM()\n",
    "await aimm.connect('ws://127.0.0.1:9999/ws')"
   ]
  },
  {
   "cell_type": "code",
   "execution_count": 2,
   "id": "89059957",
   "metadata": {},
   "outputs": [
    {
     "data": {
      "text/plain": [
       "{'models': {}, 'actions': {}}"
      ]
     },
     "execution_count": 2,
     "metadata": {},
     "output_type": "execute_result"
    }
   ],
   "source": [
    "aimm.state"
   ]
  },
  {
   "cell_type": "code",
   "execution_count": 3,
   "id": "63cae05e",
   "metadata": {},
   "outputs": [
    {
     "data": {
      "text/plain": [
       "aimm.client.repl.Model<plugins.sklearn.SVC>(instance_id=0)"
      ]
     },
     "execution_count": 3,
     "metadata": {},
     "output_type": "execute_result"
    }
   ],
   "source": [
    "m = await aimm.create_instance('plugins.sklearn.SVC')\n",
    "m"
   ]
  },
  {
   "cell_type": "code",
   "execution_count": 4,
   "id": "2676d30e",
   "metadata": {},
   "outputs": [
    {
     "data": {
      "text/plain": [
       "{'models': {0: aimm.client.repl.Model<plugins.sklearn.SVC>(instance_id=0)},\n",
       " 'actions': {0: {'meta': {'call': 'create_instance',\n",
       "    'model_type': 'plugins.sklearn.SVC',\n",
       "    'args': [],\n",
       "    'kwargs': {}},\n",
       "   'progress': 'complete'}}}"
      ]
     },
     "execution_count": 4,
     "metadata": {},
     "output_type": "execute_result"
    }
   ],
   "source": [
    "aimm.state"
   ]
  },
  {
   "cell_type": "code",
   "execution_count": 5,
   "id": "73cd0f9a",
   "metadata": {},
   "outputs": [
    {
     "data": {
      "text/plain": [
       "array([0, 0, 0, 0, 0, 0, 0, 0, 0, 0, 0, 0, 0, 0, 0, 0, 0, 0, 0, 0, 0, 0,\n",
       "       0, 0, 0, 0, 0, 0, 0, 0, 0, 0, 0, 0, 0, 0, 0, 0, 0, 0, 0, 0, 0, 0,\n",
       "       0, 0, 0, 0, 0, 0, 1, 1, 1, 1, 1, 1, 1, 1, 1, 1, 1, 1, 1, 1, 1, 1,\n",
       "       1, 1, 1, 1, 2, 1, 1, 1, 1, 1, 1, 2, 1, 1, 1, 1, 1, 2, 1, 1, 1, 1,\n",
       "       1, 1, 1, 1, 1, 1, 1, 1, 1, 1, 1, 1, 2, 2, 2, 2, 2, 2, 2, 2, 2, 2,\n",
       "       2, 2, 2, 2, 2, 2, 2, 2, 2, 2, 2, 2, 2, 2, 2, 2, 2, 2, 2, 2, 2, 2,\n",
       "       2, 2, 2, 2, 2, 2, 2, 2, 2, 2, 2, 2, 2, 2, 2, 2, 2, 2])"
      ]
     },
     "execution_count": 5,
     "metadata": {},
     "output_type": "execute_result"
    }
   ],
   "source": [
    "await m.fit(repl.DataAccessArg('iris_inputs'), repl.DataAccessArg('iris_outputs'))\n",
    "await m.predict(repl.DataAccessArg('iris_inputs'))"
   ]
  },
  {
   "cell_type": "markdown",
   "id": "353604ad",
   "metadata": {},
   "source": [
    "## Local plugin execution\n",
    "\n",
    "All plugins may be executed separate from the AIMM server. The following\n",
    "cells show how a basic workflow of a machine learning model, starting\n",
    "from instantiation, fitting and practical usage - all done through the\n",
    "plugins interface. On it's own, this is not particularly interesting -\n",
    "after all, it would have easier to achieve the same without using the plugin\n",
    "interface and using sklearn's models directly. Still, this shows how\n",
    "AIMM server interprets and uses plugins when performing actions."
   ]
  },
  {
   "cell_type": "code",
   "execution_count": 6,
   "id": "fcaa916c",
   "metadata": {},
   "outputs": [],
   "source": [
    "from aimm import plugins"
   ]
  },
  {
   "cell_type": "code",
   "execution_count": 7,
   "id": "e57fde25",
   "metadata": {},
   "outputs": [],
   "source": [
    "plugins.initialize({'names': ['plugins.sklearn']})\n",
    "svc_type = 'plugins.sklearn.SVC'\n",
    "model = plugins.exec_instantiate(svc_type)\n",
    "\n",
    "x = plugins.exec_data_access('iris_inputs')\n",
    "y = plugins.exec_data_access('iris_outputs')\n",
    "\n",
    "model = plugins.exec_fit(svc_type, model, None, x, y)"
   ]
  },
  {
   "cell_type": "code",
   "execution_count": 8,
   "id": "142b7362",
   "metadata": {},
   "outputs": [
    {
     "name": "stdout",
     "output_type": "stream",
     "text": [
      "prediction: 2\n",
      "correct: 2\n"
     ]
    }
   ],
   "source": [
    "index = 100\n",
    "\n",
    "print('prediction:', plugins.exec_predict(svc_type, model, None, x[index].reshape(1, -1))[0])\n",
    "print('correct:', y[index])"
   ]
  },
  {
   "cell_type": "code",
   "execution_count": null,
   "id": "d178df2a",
   "metadata": {},
   "outputs": [],
   "source": []
  }
 ],
 "metadata": {
  "kernelspec": {
   "display_name": "Python 3",
   "language": "python",
   "name": "python3"
  },
  "language_info": {
   "codemirror_mode": {
    "name": "ipython",
    "version": 3
   },
   "file_extension": ".py",
   "mimetype": "text/x-python",
   "name": "python",
   "nbconvert_exporter": "python",
   "pygments_lexer": "ipython3",
   "version": "3.9.5"
  }
 },
 "nbformat": 4,
 "nbformat_minor": 5
}
